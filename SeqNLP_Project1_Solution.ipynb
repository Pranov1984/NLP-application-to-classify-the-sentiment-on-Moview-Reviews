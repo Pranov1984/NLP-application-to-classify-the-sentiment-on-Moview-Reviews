{
  "nbformat": 4,
  "nbformat_minor": 0,
  "metadata": {
    "colab": {
      "name": "SeqNLP_Project1_Solution.ipynb",
      "provenance": [],
      "collapsed_sections": [],
      "include_colab_link": true
    },
    "kernelspec": {
      "name": "python3",
      "display_name": "Python 3"
    },
    "accelerator": "GPU"
  },
  "cells": [
    {
      "cell_type": "markdown",
      "metadata": {
        "id": "view-in-github",
        "colab_type": "text"
      },
      "source": [
        "<a href=\"https://colab.research.google.com/github/Pranov1984/NLP-application-to-classify-the-sentiment-on-Moview-Reviews/blob/master/SeqNLP_Project1_Solution.ipynb\" target=\"_parent\"><img src=\"https://colab.research.google.com/assets/colab-badge.svg\" alt=\"Open In Colab\"/></a>"
      ]
    },
    {
      "cell_type": "markdown",
      "metadata": {
        "colab_type": "text",
        "id": "xT7MKZuMRaCg"
      },
      "source": [
        "# Sentiment Classification\n"
      ]
    },
    {
      "cell_type": "markdown",
      "metadata": {
        "colab_type": "text",
        "id": "Wq4RCyyPSYRp"
      },
      "source": [
        "## Loading the dataset"
      ]
    },
    {
      "cell_type": "code",
      "metadata": {
        "id": "DKDStq_VcrTp",
        "colab_type": "code",
        "outputId": "13516290-83ee-4470-9b98-b3a5f3f60a31",
        "colab": {
          "base_uri": "https://localhost:8080/",
          "height": 121
        }
      },
      "source": [
        "from google.colab import drive\n",
        "drive.mount('/content/drive')"
      ],
      "execution_count": 0,
      "outputs": [
        {
          "output_type": "stream",
          "text": [
            "Go to this URL in a browser: https://accounts.google.com/o/oauth2/auth?client_id=947318989803-6bn6qk8qdgf4n4g3pfee6491hc0brc4i.apps.googleusercontent.com&redirect_uri=urn%3aietf%3awg%3aoauth%3a2.0%3aoob&response_type=code&scope=email%20https%3a%2f%2fwww.googleapis.com%2fauth%2fdocs.test%20https%3a%2f%2fwww.googleapis.com%2fauth%2fdrive%20https%3a%2f%2fwww.googleapis.com%2fauth%2fdrive.photos.readonly%20https%3a%2f%2fwww.googleapis.com%2fauth%2fpeopleapi.readonly\n",
            "\n",
            "Enter your authorization code:\n",
            "··········\n",
            "Mounted at /content/drive\n"
          ],
          "name": "stdout"
        }
      ]
    },
    {
      "cell_type": "code",
      "metadata": {
        "colab_type": "code",
        "id": "NGCtiXUhSWss",
        "outputId": "114ca232-a121-4cf8-ad24-74d193bc3a66",
        "colab": {
          "base_uri": "https://localhost:8080/",
          "height": 67
        }
      },
      "source": [
        "from keras.datasets import imdb\n",
        "from keras import preprocessing\n",
        "vocab_size = 10000 #vocab size\n",
        "\n",
        "(x_train, y_train), (x_test, y_test) = imdb.load_data(num_words=vocab_size) # vocab_size is no.of words to consider from the dataset, ordering based on frequency."
      ],
      "execution_count": 0,
      "outputs": [
        {
          "output_type": "stream",
          "text": [
            "Using TensorFlow backend.\n"
          ],
          "name": "stderr"
        },
        {
          "output_type": "stream",
          "text": [
            "Downloading data from https://s3.amazonaws.com/text-datasets/imdb.npz\n",
            "17465344/17464789 [==============================] - 0s 0us/step\n"
          ],
          "name": "stdout"
        }
      ]
    },
    {
      "cell_type": "code",
      "metadata": {
        "id": "Bi11RaZJr0T7",
        "colab_type": "code",
        "colab": {}
      },
      "source": [
        "vocab_size = 10000 #vocab size"
      ],
      "execution_count": 0,
      "outputs": []
    },
    {
      "cell_type": "code",
      "metadata": {
        "id": "ysOmxZ26Zo7q",
        "colab_type": "code",
        "outputId": "7e3fd24c-69c0-422e-a50c-4ea4ae06859e",
        "colab": {
          "base_uri": "https://localhost:8080/",
          "height": 34
        }
      },
      "source": [
        "x_train.shape, x_test.shape"
      ],
      "execution_count": 0,
      "outputs": [
        {
          "output_type": "execute_result",
          "data": {
            "text/plain": [
              "((25000,), (25000,))"
            ]
          },
          "metadata": {
            "tags": []
          },
          "execution_count": 4
        }
      ]
    },
    {
      "cell_type": "code",
      "metadata": {
        "id": "5BGQnTbecRhw",
        "colab_type": "code",
        "outputId": "3ae9bc90-3c06-47ea-e1e6-a33b27beb38a",
        "colab": {
          "base_uri": "https://localhost:8080/",
          "height": 34
        }
      },
      "source": [
        "y_test.shape"
      ],
      "execution_count": 0,
      "outputs": [
        {
          "output_type": "execute_result",
          "data": {
            "text/plain": [
              "(25000,)"
            ]
          },
          "metadata": {
            "tags": []
          },
          "execution_count": 5
        }
      ]
    },
    {
      "cell_type": "code",
      "metadata": {
        "id": "fCPC_WN-eCyw",
        "colab_type": "code",
        "colab": {}
      },
      "source": [
        "from keras.preprocessing.sequence import pad_sequences\n",
        "vocab_size = 10000 #vocab size\n",
        "maxlen = 300  #number of word used from each review"
      ],
      "execution_count": 0,
      "outputs": []
    },
    {
      "cell_type": "markdown",
      "metadata": {
        "id": "qMEsHYrWxdtk",
        "colab_type": "text"
      },
      "source": [
        "## Train test split"
      ]
    },
    {
      "cell_type": "code",
      "metadata": {
        "id": "ZFjBTWJhAVnU",
        "colab_type": "code",
        "colab": {}
      },
      "source": [
        "#make all sequences of the same length\n",
        "x_train = pad_sequences(x_train, maxlen=maxlen)\n",
        "x_test = pad_sequences(x_test, maxlen=maxlen)"
      ],
      "execution_count": 0,
      "outputs": []
    },
    {
      "cell_type": "code",
      "metadata": {
        "id": "VRYY5ednQbwi",
        "colab_type": "code",
        "outputId": "8f26d0e0-87d4-4ccf-85d4-4943c72883d0",
        "colab": {
          "base_uri": "https://localhost:8080/",
          "height": 34
        }
      },
      "source": [
        "x_train.shape,x_test.shape,y_train.shape,y_test.shape"
      ],
      "execution_count": 0,
      "outputs": [
        {
          "output_type": "execute_result",
          "data": {
            "text/plain": [
              "((25000, 300), (25000, 300), (25000,), (25000,))"
            ]
          },
          "metadata": {
            "tags": []
          },
          "execution_count": 8
        }
      ]
    },
    {
      "cell_type": "markdown",
      "metadata": {
        "id": "dybtUgUReCy8",
        "colab_type": "text"
      },
      "source": [
        "## Build Keras Embedding Layer Model\n",
        "We can think of the Embedding layer as a dicionary that maps a index assigned to a word to a word vector. This layer is very flexible and can be used in a few ways:\n",
        "\n",
        "* The embedding layer can be used at the start of a larger deep learning model. \n",
        "* Also we could load pre-train word embeddings into the embedding layer when we create our model.\n",
        "* Use the embedding layer to train our own word2vec models.\n",
        "\n",
        "The keras embedding layer doesn't require us to onehot encode our words, instead we have to give each word a unqiue intger number as an id. For the imdb dataset this has already been done, but if this wasn't the case we could use sklearn [LabelEncoder](http://scikit-learn.org/stable/modules/generated/sklearn.preprocessing.LabelEncoder.html)."
      ]
    },
    {
      "cell_type": "code",
      "metadata": {
        "id": "oXZhB2FuQANY",
        "colab_type": "code",
        "outputId": "a7f2c5cb-5958-4b99-8b1e-845336b44f87",
        "colab": {
          "base_uri": "https://localhost:8080/",
          "height": 487
        }
      },
      "source": [
        "#sequence encoding and padding\n",
        "x_train[7128]"
      ],
      "execution_count": 0,
      "outputs": [
        {
          "output_type": "execute_result",
          "data": {
            "text/plain": [
              "array([   0,    0,    0,    0,    0,    0,    0,    0,    0,    0,    0,\n",
              "          0,    0,    0,    0,    0,    0,    0,    0,    0,    0,    0,\n",
              "          0,    0,    0,    0,    0,    0,    0,    0,    0,    0,    0,\n",
              "          0,    0,    0,    0,    0,    0,    0,    0,    0,    0,    0,\n",
              "          0,    0,    0,    0,    0,    0,    0,    0,    0,    0,    0,\n",
              "          0,    0,    0,    0,    0,    0,    0,    0,    0,    0,    0,\n",
              "          0,    0,    0,    0,    0,    0,    0,    0,    0,    0,    0,\n",
              "          0,    0,    0,    0,    0,    0,    0,    0,    0,    0,    0,\n",
              "          0,    0,    0,    0,    0,    0,    0,    0,    0,    0,    0,\n",
              "          0,    0,    0,    0,    0,    0,    0,    0,    0,    0,    0,\n",
              "          0,    0,    0,    0,    0,    0,    0,    0,    0,    0,    0,\n",
              "          0,    0,    0,    0,    0,    0,    0,    0,    0,    0,    0,\n",
              "          0,    0,    0,    0,    0,    0,    0,    0,    0,    0,    1,\n",
              "         13,  340, 1041,   19,    4,   85,  931,  294,  144,   81,    6,\n",
              "        803,   56, 4914, 3878,   19,   14,   22,   10,   10,   12,   47,\n",
              "          8,   30,   31,    7,    4,  249,  785,  108,  207,  110,   11,\n",
              "          6,  196,   58,  165,  367,   19,    2,    7,    4, 9184,  241,\n",
              "       3388,  108,   11,    6,   76,   99,  346,  810,    7,   58,   10,\n",
              "         10,   45,   66,  619,   88,    4,  177,    9,   66,  221,    5,\n",
              "          4,  204,  326,  243,    7,  253,    2,    2,   11,  843,    5,\n",
              "       1560,    2,  112,  793,   61,    2,   13,   16,    2,  685,    8,\n",
              "         67,   98,    2,   11,  141,    6,  338,   22,   10,   10, 3763,\n",
              "          2,    9,  179,   78,   17,  644,   63,  271,    8, 1970,   15,\n",
              "          6,  184,  393,    5,  804,  846,   70,   79,   25,   83,    4,\n",
              "        102,   21,   36,   92, 2707,  202,   25,  676,   10,   10,  798,\n",
              "         14,   22,   48,   25,  181,    8,  462,  106,   35,    2,    2,\n",
              "        305,   42,   49,  327,  810,  418,  368,    7,  253,   40, 1080,\n",
              "          2,  852,    2], dtype=int32)"
            ]
          },
          "metadata": {
            "tags": []
          },
          "execution_count": 9
        }
      ]
    },
    {
      "cell_type": "code",
      "metadata": {
        "id": "xMVBI5r5TGkw",
        "colab_type": "code",
        "colab": {}
      },
      "source": [
        "#Model Building with word embedding\n",
        "\n",
        "from tensorflow.python.keras.models import Sequential\n",
        "from tensorflow.python.keras.layers import LSTM, Dense, Embedding, GRU, Conv1D, MaxPool1D, Flatten, Dropout, SpatialDropout1D\n",
        "from tensorflow.python.keras.callbacks import EarlyStopping, ModelCheckpoint\n",
        "import tensorflow.python.keras.backend as K\n",
        "K.clear_session()"
      ],
      "execution_count": 0,
      "outputs": []
    },
    {
      "cell_type": "code",
      "metadata": {
        "id": "Pm52YtzmUCZn",
        "colab_type": "code",
        "outputId": "fdbcddd4-032b-43e8-d907-e298477c4dc7",
        "colab": {
          "base_uri": "https://localhost:8080/",
          "height": 370
        }
      },
      "source": [
        "# model\n",
        "model = Sequential()\n",
        "model.add(Embedding(vocab_size, 100, input_length=maxlen))\n",
        "model.add(Conv1D(100, 3, padding='same', activation='relu'))\n",
        "model.add(MaxPool1D())\n",
        "model.add(Flatten())\n",
        "model.add(Dense(250, activation='relu'))\n",
        "model.add(Dense(1, activation='sigmoid')) \n",
        "print(model.summary())"
      ],
      "execution_count": 0,
      "outputs": [
        {
          "output_type": "stream",
          "text": [
            "Model: \"sequential\"\n",
            "_________________________________________________________________\n",
            "Layer (type)                 Output Shape              Param #   \n",
            "=================================================================\n",
            "embedding (Embedding)        (None, 300, 100)          1000000   \n",
            "_________________________________________________________________\n",
            "conv1d (Conv1D)              (None, 300, 100)          30100     \n",
            "_________________________________________________________________\n",
            "max_pooling1d (MaxPooling1D) (None, 150, 100)          0         \n",
            "_________________________________________________________________\n",
            "flatten (Flatten)            (None, 15000)             0         \n",
            "_________________________________________________________________\n",
            "dense (Dense)                (None, 250)               3750250   \n",
            "_________________________________________________________________\n",
            "dense_1 (Dense)              (None, 1)                 251       \n",
            "=================================================================\n",
            "Total params: 4,780,601\n",
            "Trainable params: 4,780,601\n",
            "Non-trainable params: 0\n",
            "_________________________________________________________________\n",
            "None\n"
          ],
          "name": "stdout"
        }
      ]
    },
    {
      "cell_type": "code",
      "metadata": {
        "id": "H3u0YmXjULIc",
        "colab_type": "code",
        "colab": {}
      },
      "source": [
        "model.compile(optimizer='adam', loss='binary_crossentropy',metrics=[\"acc\"]) "
      ],
      "execution_count": 0,
      "outputs": []
    },
    {
      "cell_type": "code",
      "metadata": {
        "id": "GDm59kJMULV4",
        "colab_type": "code",
        "colab": {}
      },
      "source": [
        "es = EarlyStopping(monitor='val_loss', mode='min', verbose=1,patience=2)  \n",
        "mc=ModelCheckpoint('best_model.h5', monitor='val_loss', mode='min', save_best_only=True,verbose=1)"
      ],
      "execution_count": 0,
      "outputs": []
    },
    {
      "cell_type": "code",
      "metadata": {
        "id": "LjlG3VCSULcm",
        "colab_type": "code",
        "outputId": "52cfd2d5-402b-4db6-d713-5d35a998c748",
        "colab": {
          "base_uri": "https://localhost:8080/",
          "height": 1000
        }
      },
      "source": [
        "history = model.fit(x_train,y_train,batch_size=1200,epochs=50,validation_data=(x_test,y_test),verbose=1)"
      ],
      "execution_count": 0,
      "outputs": [
        {
          "output_type": "stream",
          "text": [
            "Epoch 1/50\n",
            "21/21 [==============================] - 4s 192ms/step - loss: 0.7094 - acc: 0.5020 - val_loss: 0.6928 - val_acc: 0.5000\n",
            "Epoch 2/50\n",
            "21/21 [==============================] - 4s 171ms/step - loss: 0.6909 - acc: 0.5065 - val_loss: 0.6885 - val_acc: 0.5000\n",
            "Epoch 3/50\n",
            "21/21 [==============================] - 4s 169ms/step - loss: 0.6519 - acc: 0.5704 - val_loss: 0.5804 - val_acc: 0.7157\n",
            "Epoch 4/50\n",
            "21/21 [==============================] - 4s 168ms/step - loss: 0.4985 - acc: 0.8408 - val_loss: 0.4845 - val_acc: 0.8738\n",
            "Epoch 5/50\n",
            "21/21 [==============================] - 4s 168ms/step - loss: 0.4279 - acc: 0.9154 - val_loss: 0.4796 - val_acc: 0.8768\n",
            "Epoch 6/50\n",
            "21/21 [==============================] - 4s 169ms/step - loss: 0.3909 - acc: 0.9342 - val_loss: 0.4840 - val_acc: 0.8698\n",
            "Epoch 7/50\n",
            "21/21 [==============================] - 4s 170ms/step - loss: 0.2562 - acc: 0.9516 - val_loss: 0.3525 - val_acc: 0.8732\n",
            "Epoch 8/50\n",
            "21/21 [==============================] - 4s 171ms/step - loss: 0.1358 - acc: 0.9620 - val_loss: 0.3625 - val_acc: 0.8662\n",
            "Epoch 9/50\n",
            "21/21 [==============================] - 4s 168ms/step - loss: 0.0997 - acc: 0.9728 - val_loss: 0.4184 - val_acc: 0.8708\n",
            "Epoch 10/50\n",
            "21/21 [==============================] - 4s 170ms/step - loss: 0.0759 - acc: 0.9818 - val_loss: 0.4493 - val_acc: 0.8670\n",
            "Epoch 11/50\n",
            "21/21 [==============================] - 4s 170ms/step - loss: 0.0594 - acc: 0.9878 - val_loss: 0.4801 - val_acc: 0.8648\n",
            "Epoch 12/50\n",
            "21/21 [==============================] - 4s 170ms/step - loss: 0.0486 - acc: 0.9911 - val_loss: 0.5324 - val_acc: 0.8643\n",
            "Epoch 13/50\n",
            "21/21 [==============================] - 4s 169ms/step - loss: 0.0395 - acc: 0.9930 - val_loss: 0.5720 - val_acc: 0.8624\n",
            "Epoch 14/50\n",
            "21/21 [==============================] - 4s 172ms/step - loss: 0.0341 - acc: 0.9943 - val_loss: 0.6223 - val_acc: 0.8614\n",
            "Epoch 15/50\n",
            "21/21 [==============================] - 4s 169ms/step - loss: 0.0295 - acc: 0.9950 - val_loss: 0.6509 - val_acc: 0.8598\n",
            "Epoch 16/50\n",
            "21/21 [==============================] - 4s 168ms/step - loss: 0.0262 - acc: 0.9955 - val_loss: 0.6789 - val_acc: 0.8595\n",
            "Epoch 17/50\n",
            "21/21 [==============================] - 4s 169ms/step - loss: 0.0243 - acc: 0.9958 - val_loss: 0.7374 - val_acc: 0.8567\n",
            "Epoch 18/50\n",
            "21/21 [==============================] - 4s 170ms/step - loss: 0.0217 - acc: 0.9962 - val_loss: 0.7242 - val_acc: 0.8565\n",
            "Epoch 19/50\n",
            "21/21 [==============================] - 4s 170ms/step - loss: 0.0200 - acc: 0.9964 - val_loss: 0.7613 - val_acc: 0.8553\n",
            "Epoch 20/50\n",
            "21/21 [==============================] - 4s 171ms/step - loss: 0.0176 - acc: 0.9968 - val_loss: 0.8151 - val_acc: 0.8548\n",
            "Epoch 21/50\n",
            "21/21 [==============================] - 4s 170ms/step - loss: 0.0149 - acc: 0.9974 - val_loss: 0.8262 - val_acc: 0.8536\n",
            "Epoch 22/50\n",
            "21/21 [==============================] - 4s 170ms/step - loss: 0.0129 - acc: 0.9978 - val_loss: 0.8546 - val_acc: 0.8507\n",
            "Epoch 23/50\n",
            "21/21 [==============================] - 4s 170ms/step - loss: 0.0114 - acc: 0.9982 - val_loss: 0.9252 - val_acc: 0.8520\n",
            "Epoch 24/50\n",
            "21/21 [==============================] - 4s 170ms/step - loss: 0.0096 - acc: 0.9985 - val_loss: 0.9490 - val_acc: 0.8516\n",
            "Epoch 25/50\n",
            "21/21 [==============================] - 4s 170ms/step - loss: 0.0085 - acc: 0.9986 - val_loss: 0.9717 - val_acc: 0.8514\n",
            "Epoch 26/50\n",
            "21/21 [==============================] - 4s 168ms/step - loss: 0.0076 - acc: 0.9988 - val_loss: 1.0173 - val_acc: 0.8508\n",
            "Epoch 27/50\n",
            "21/21 [==============================] - 4s 168ms/step - loss: 0.0068 - acc: 0.9989 - val_loss: 1.0164 - val_acc: 0.8513\n",
            "Epoch 28/50\n",
            "21/21 [==============================] - 4s 171ms/step - loss: 0.0063 - acc: 0.9990 - val_loss: 1.0287 - val_acc: 0.8509\n",
            "Epoch 29/50\n",
            "21/21 [==============================] - 4s 170ms/step - loss: 0.0060 - acc: 0.9990 - val_loss: 1.0499 - val_acc: 0.8508\n",
            "Epoch 30/50\n",
            "21/21 [==============================] - 4s 171ms/step - loss: 0.0059 - acc: 0.9990 - val_loss: 1.0587 - val_acc: 0.8507\n",
            "Epoch 31/50\n",
            "21/21 [==============================] - 4s 172ms/step - loss: 0.0057 - acc: 0.9990 - val_loss: 1.0737 - val_acc: 0.8505\n",
            "Epoch 32/50\n",
            "21/21 [==============================] - 4s 171ms/step - loss: 0.0056 - acc: 0.9990 - val_loss: 1.0854 - val_acc: 0.8506\n",
            "Epoch 33/50\n",
            "21/21 [==============================] - 4s 173ms/step - loss: 0.0055 - acc: 0.9990 - val_loss: 1.0936 - val_acc: 0.8504\n",
            "Epoch 34/50\n",
            "21/21 [==============================] - 4s 169ms/step - loss: 0.0054 - acc: 0.9990 - val_loss: 1.1092 - val_acc: 0.8498\n",
            "Epoch 35/50\n",
            "21/21 [==============================] - 4s 168ms/step - loss: 0.0053 - acc: 0.9990 - val_loss: 1.1078 - val_acc: 0.8496\n",
            "Epoch 36/50\n",
            "21/21 [==============================] - 4s 170ms/step - loss: 0.0052 - acc: 0.9990 - val_loss: 1.1277 - val_acc: 0.8494\n",
            "Epoch 37/50\n",
            "21/21 [==============================] - 4s 170ms/step - loss: 0.0052 - acc: 0.9990 - val_loss: 1.1325 - val_acc: 0.8494\n",
            "Epoch 38/50\n",
            "21/21 [==============================] - 4s 169ms/step - loss: 0.0051 - acc: 0.9990 - val_loss: 1.1447 - val_acc: 0.8490\n",
            "Epoch 39/50\n",
            "21/21 [==============================] - 4s 171ms/step - loss: 0.0050 - acc: 0.9990 - val_loss: 1.1501 - val_acc: 0.8490\n",
            "Epoch 40/50\n",
            "21/21 [==============================] - 4s 171ms/step - loss: 0.0049 - acc: 0.9990 - val_loss: 1.1587 - val_acc: 0.8485\n",
            "Epoch 41/50\n",
            "21/21 [==============================] - 4s 170ms/step - loss: 0.0049 - acc: 0.9990 - val_loss: 1.1705 - val_acc: 0.8483\n",
            "Epoch 42/50\n",
            "21/21 [==============================] - 4s 169ms/step - loss: 0.0048 - acc: 0.9990 - val_loss: 1.1703 - val_acc: 0.8484\n",
            "Epoch 43/50\n",
            "21/21 [==============================] - 4s 169ms/step - loss: 0.0047 - acc: 0.9990 - val_loss: 1.1792 - val_acc: 0.8480\n",
            "Epoch 44/50\n",
            "21/21 [==============================] - 4s 170ms/step - loss: 0.0047 - acc: 0.9990 - val_loss: 1.1945 - val_acc: 0.8480\n",
            "Epoch 45/50\n",
            "21/21 [==============================] - 4s 171ms/step - loss: 0.0045 - acc: 0.9990 - val_loss: 1.1977 - val_acc: 0.8476\n",
            "Epoch 46/50\n",
            "21/21 [==============================] - 4s 169ms/step - loss: 0.0044 - acc: 0.9990 - val_loss: 1.2127 - val_acc: 0.8477\n",
            "Epoch 47/50\n",
            "21/21 [==============================] - 4s 172ms/step - loss: 0.0043 - acc: 0.9990 - val_loss: 1.2202 - val_acc: 0.8479\n",
            "Epoch 48/50\n",
            "21/21 [==============================] - 4s 170ms/step - loss: 0.0042 - acc: 0.9990 - val_loss: 1.2287 - val_acc: 0.8482\n",
            "Epoch 49/50\n",
            "21/21 [==============================] - 4s 170ms/step - loss: 0.0042 - acc: 0.9990 - val_loss: 1.2390 - val_acc: 0.8478\n",
            "Epoch 50/50\n",
            "21/21 [==============================] - 4s 171ms/step - loss: 0.0040 - acc: 0.9990 - val_loss: 1.2513 - val_acc: 0.8479\n"
          ],
          "name": "stdout"
        }
      ]
    },
    {
      "cell_type": "code",
      "metadata": {
        "id": "yFpjoOucUth7",
        "colab_type": "code",
        "colab": {}
      },
      "source": [
        "#Set the path where you want to store the model and weights. \n",
        "model.save('/content/drive/My Drive/Colab Notebooks/AIML/NLP/Week 4 - Project for Sequential NLP/best_model.h5')\n",
        "model.save_weights('/content/drive/My Drive/Colab Notebooks/AIML/NLP/Week 4 - Project for Sequential NLP/best_model_weights.h5')"
      ],
      "execution_count": 0,
      "outputs": []
    },
    {
      "cell_type": "code",
      "metadata": {
        "id": "Zn_aWcnHUtkg",
        "colab_type": "code",
        "outputId": "892b3b2b-9fbf-4126-9b56-b73749916985",
        "colab": {
          "base_uri": "https://localhost:8080/",
          "height": 545
        }
      },
      "source": [
        "from matplotlib import pyplot as plt\n",
        "\n",
        "\n",
        "loss = history.history['loss']\n",
        "val_loss = history.history['val_loss']\n",
        "\n",
        "epochs = range(len(loss))\n",
        "\n",
        "plt.figure()\n",
        "\n",
        "plt.plot(epochs, loss, 'bo', label='Training loss')\n",
        "plt.plot(epochs, val_loss, 'b', label='Validation loss')\n",
        "plt.title('Training and validation loss')\n",
        "plt.legend()\n",
        "\n",
        "plt.show()\n",
        "\n",
        "acc = history.history['acc']\n",
        "val_acc = history.history['val_acc']\n",
        "\n",
        "epochs = range(len(acc))\n",
        "\n",
        "plt.figure()\n",
        "\n",
        "plt.plot(epochs, acc, 'bo', label='Training acc')\n",
        "plt.plot(epochs, val_acc, 'b', label='Validation acc')\n",
        "plt.title('Training and validation accuracy')\n",
        "plt.legend()\n",
        "\n",
        "plt.show()"
      ],
      "execution_count": 0,
      "outputs": [
        {
          "output_type": "display_data",
          "data": {
            "image/png": "[encoded data removed]",
            "text/plain": [
              "<Figure size 432x288 with 1 Axes>"
            ]
          },
          "metadata": {
            "tags": []
          }
        },
        {
          "output_type": "display_data",
          "data": {
            "image/png": "[encoded data removed]",
            "text/plain": [
              "<Figure size 432x288 with 1 Axes>"
            ]
          },
          "metadata": {
            "tags": []
          }
        }
      ]
    },
    {
      "cell_type": "markdown",
      "metadata": {
        "id": "e6ABY_QQbvjw",
        "colab_type": "text"
      },
      "source": [
        "Try lstm architecture"
      ]
    },
    {
      "cell_type": "code",
      "metadata": {
        "id": "cpseXhwPFwnW",
        "colab_type": "code",
        "outputId": "dab1e0ab-9230-4500-d09f-72b8f13648a0",
        "colab": {
          "base_uri": "https://localhost:8080/",
          "height": 504
        }
      },
      "source": [
        "# lstm model\n",
        "model = Sequential()\n",
        "model.add(Embedding(vocab_size, 64, input_length=maxlen))\n",
        "model.add(Conv1D(32, 64, activation='relu'))\n",
        "model.add(MaxPool1D(3))\n",
        "\n",
        "model.add(Conv1D(32, 64, activation='relu'))\n",
        "model.add(MaxPool1D(3))\n",
        "\n",
        "\n",
        "model.add(LSTM(32,dropout=0.1, return_sequences=True,recurrent_dropout=0.2))\n",
        "\n",
        "model.add(Dense(64, activation='relu'))\n",
        "model.add(Dense(32, activation='relu'))\n",
        "\n",
        "model.add(Dense(1, activation='sigmoid')) \n",
        "print(model.summary())"
      ],
      "execution_count": 0,
      "outputs": [
        {
          "output_type": "stream",
          "text": [
            "WARNING:tensorflow:Layer lstm_22 will not use cuDNN kernel since it doesn't meet the cuDNN kernel criteria. It will use generic GPU kernel as fallback when running on GPU\n"
          ],
          "name": "stdout"
        },
        {
          "output_type": "stream",
          "text": [
            "WARNING:tensorflow:Layer lstm_22 will not use cuDNN kernel since it doesn't meet the cuDNN kernel criteria. It will use generic GPU kernel as fallback when running on GPU\n"
          ],
          "name": "stderr"
        },
        {
          "output_type": "stream",
          "text": [
            "Model: \"sequential_12\"\n",
            "_________________________________________________________________\n",
            "Layer (type)                 Output Shape              Param #   \n",
            "=================================================================\n",
            "embedding_12 (Embedding)     (None, 300, 64)           640000    \n",
            "_________________________________________________________________\n",
            "conv1d_30 (Conv1D)           (None, 237, 32)           131104    \n",
            "_________________________________________________________________\n",
            "max_pooling1d_30 (MaxPooling (None, 79, 32)            0         \n",
            "_________________________________________________________________\n",
            "conv1d_31 (Conv1D)           (None, 16, 32)            65568     \n",
            "_________________________________________________________________\n",
            "max_pooling1d_31 (MaxPooling (None, 5, 32)             0         \n",
            "_________________________________________________________________\n",
            "lstm_22 (LSTM)               (None, 5, 32)             8320      \n",
            "_________________________________________________________________\n",
            "dense_31 (Dense)             (None, 5, 64)             2112      \n",
            "_________________________________________________________________\n",
            "dense_32 (Dense)             (None, 5, 32)             2080      \n",
            "_________________________________________________________________\n",
            "dense_33 (Dense)             (None, 5, 1)              33        \n",
            "=================================================================\n",
            "Total params: 849,217\n",
            "Trainable params: 849,217\n",
            "Non-trainable params: 0\n",
            "_________________________________________________________________\n",
            "None\n"
          ],
          "name": "stdout"
        }
      ]
    },
    {
      "cell_type": "code",
      "metadata": {
        "id": "SOQuUeUdFw36",
        "colab_type": "code",
        "outputId": "f950bdb7-ce66-4c8c-fec6-72d810ae2447",
        "colab": {
          "base_uri": "https://localhost:8080/",
          "height": 353
        }
      },
      "source": [
        "model.compile(optimizer='rmsprop' ,loss='binary_crossentropy',metrics=[\"acc\"])\n",
        "es = EarlyStopping(monitor='val_loss', mode='min', verbose=1,patience=2)  \n",
        "mc=ModelCheckpoint('best_model.h5', monitor='val_loss', mode='min', save_best_only=True,verbose=1)\n",
        "history = model.fit(x_train,y_train,batch_size=1200,epochs=10,validation_data=(x_test,y_test),verbose=1)"
      ],
      "execution_count": 0,
      "outputs": [
        {
          "output_type": "stream",
          "text": [
            "Epoch 1/10\n",
            "21/21 [==============================] - 3s 138ms/step - loss: 0.6468 - acc: 0.6115 - val_loss: 0.7039 - val_acc: 0.6134\n",
            "Epoch 2/10\n",
            "21/21 [==============================] - 3s 123ms/step - loss: 0.4431 - acc: 0.8065 - val_loss: 0.3945 - val_acc: 0.8281\n",
            "Epoch 3/10\n",
            "21/21 [==============================] - 3s 122ms/step - loss: 0.3479 - acc: 0.8598 - val_loss: 0.3680 - val_acc: 0.8417\n",
            "Epoch 4/10\n",
            "21/21 [==============================] - 3s 121ms/step - loss: 0.2940 - acc: 0.8860 - val_loss: 0.3848 - val_acc: 0.8348\n",
            "Epoch 5/10\n",
            "21/21 [==============================] - 3s 121ms/step - loss: 0.2662 - acc: 0.8972 - val_loss: 0.3803 - val_acc: 0.8348\n",
            "Epoch 6/10\n",
            "21/21 [==============================] - 3s 121ms/step - loss: 0.2204 - acc: 0.9185 - val_loss: 0.5201 - val_acc: 0.7957\n",
            "Epoch 7/10\n",
            "21/21 [==============================] - 3s 122ms/step - loss: 0.2106 - acc: 0.9190 - val_loss: 0.4938 - val_acc: 0.8206\n",
            "Epoch 8/10\n",
            "21/21 [==============================] - 3s 121ms/step - loss: 0.1950 - acc: 0.9244 - val_loss: 0.4056 - val_acc: 0.8465\n",
            "Epoch 9/10\n",
            "21/21 [==============================] - 3s 124ms/step - loss: 0.1794 - acc: 0.9324 - val_loss: 0.3950 - val_acc: 0.8398\n",
            "Epoch 10/10\n",
            "21/21 [==============================] - 3s 123ms/step - loss: 0.1539 - acc: 0.9429 - val_loss: 0.5309 - val_acc: 0.8149\n"
          ],
          "name": "stdout"
        }
      ]
    },
    {
      "cell_type": "code",
      "metadata": {
        "id": "tHbxWDPEFw89",
        "colab_type": "code",
        "colab": {}
      },
      "source": [
        "#Set the path where you want to store the model and weights. \n",
        "model.save('/content/drive/My Drive/Colab Notebooks/AIML/NLP/Week 4 - Project for Sequential NLP/best_model.h5')\n",
        "model.save_weights('/content/drive/My Drive/Colab Notebooks/AIML/NLP/Week 4 - Project for Sequential NLP/best_model_weights.h5')"
      ],
      "execution_count": 0,
      "outputs": []
    },
    {
      "cell_type": "code",
      "metadata": {
        "id": "TpSXoZ1HV169",
        "colab_type": "code",
        "outputId": "6ba72faf-7ca8-437e-ad96-40166e699b84",
        "colab": {
          "base_uri": "https://localhost:8080/",
          "height": 545
        }
      },
      "source": [
        "from matplotlib import pyplot as plt\n",
        "\n",
        "loss = history.history['loss']\n",
        "val_loss = history.history['val_loss']\n",
        "\n",
        "epochs = range(len(loss))\n",
        "\n",
        "plt.figure()\n",
        "\n",
        "plt.plot(epochs, loss, 'bo', label='Training loss')\n",
        "plt.plot(epochs, val_loss, 'b', label='Validation loss')\n",
        "plt.title('Training and validation loss')\n",
        "plt.legend()\n",
        "\n",
        "plt.show()\n",
        "\n",
        "acc = history.history['acc']\n",
        "val_acc = history.history['val_acc']\n",
        "\n",
        "epochs = range(len(acc))\n",
        "\n",
        "plt.figure()\n",
        "\n",
        "plt.plot(epochs, acc, 'bo', label='Training acc')\n",
        "plt.plot(epochs, val_acc, 'b', label='Validation acc')\n",
        "plt.title('Training and validation accuracy')\n",
        "plt.legend()\n",
        "\n",
        "plt.show()"
      ],
      "execution_count": 0,
      "outputs": [
        {
          "output_type": "display_data",
          "data": {
            "image/png": "[encoded data removed]",
            "text/plain": [
              "<Figure size 432x288 with 1 Axes>"
            ]
          },
          "metadata": {
            "tags": []
          }
        },
        {
          "output_type": "display_data",
          "data": {
            "image/png": "[encoded data removed]",
            "text/plain": [
              "<Figure size 432x288 with 1 Axes>"
            ]
          },
          "metadata": {
            "tags": []
          }
        }
      ]
    },
    {
      "cell_type": "code",
      "metadata": {
        "id": "3-xjE-PQdJLT",
        "colab_type": "code",
        "outputId": "66e13c1e-191c-4e39-eaeb-3301761eb476",
        "colab": {
          "base_uri": "https://localhost:8080/",
          "height": 34
        }
      },
      "source": [
        "len(x_test[0])"
      ],
      "execution_count": 0,
      "outputs": [
        {
          "output_type": "execute_result",
          "data": {
            "text/plain": [
              "300"
            ]
          },
          "metadata": {
            "tags": []
          },
          "execution_count": 147
        }
      ]
    },
    {
      "cell_type": "code",
      "metadata": {
        "id": "X93_j0K6dJJ0",
        "colab_type": "code",
        "outputId": "11921af0-1821-4615-c0a8-cb3677f31037",
        "colab": {
          "base_uri": "https://localhost:8080/",
          "height": 34
        }
      },
      "source": [
        "type(x1)"
      ],
      "execution_count": 0,
      "outputs": [
        {
          "output_type": "execute_result",
          "data": {
            "text/plain": [
              "numpy.ndarray"
            ]
          },
          "metadata": {
            "tags": []
          },
          "execution_count": 137
        }
      ]
    },
    {
      "cell_type": "code",
      "metadata": {
        "id": "CRnzP93dV1-k",
        "colab_type": "code",
        "outputId": "e655ae1e-016d-4dec-9c93-ce231f72e74e",
        "colab": {
          "base_uri": "https://localhost:8080/",
          "height": 101
        }
      },
      "source": [
        "model.predict(x_test)[10]"
      ],
      "execution_count": 0,
      "outputs": [
        {
          "output_type": "execute_result",
          "data": {
            "text/plain": [
              "array([[0.8693156 ],\n",
              "       [0.92192477],\n",
              "       [0.9611767 ],\n",
              "       [0.9832765 ],\n",
              "       [0.98865116]], dtype=float32)"
            ]
          },
          "metadata": {
            "tags": []
          },
          "execution_count": 145
        }
      ]
    },
    {
      "cell_type": "code",
      "metadata": {
        "id": "3IIUNQuEV15Q",
        "colab_type": "code",
        "colab": {}
      },
      "source": [
        ""
      ],
      "execution_count": 0,
      "outputs": []
    },
    {
      "cell_type": "code",
      "metadata": {
        "id": "p_MlF1RVFxAz",
        "colab_type": "code",
        "outputId": "e42ffd0a-113d-48fb-fc7f-1e256f4f551d",
        "colab": {
          "base_uri": "https://localhost:8080/",
          "height": 605
        }
      },
      "source": [
        "#LSTM & GRU model\n",
        "model = Sequential()\n",
        "model.add(Embedding(vocab_size, 64, input_length=maxlen))\n",
        "model.add(Conv1D(32, 64, activation='relu'))\n",
        "model.add(MaxPool1D(3))\n",
        "\n",
        "model.add(Conv1D(32, 32, activation='relu'))\n",
        "model.add(MaxPool1D(1))\n",
        "\n",
        "model.add(GRU(16,dropout=0.2, return_sequences=True,recurrent_dropout=0.5))\n",
        "model.add(LSTM(16,dropout=0.1, return_sequences=True,recurrent_dropout=0.2))\n",
        "\n",
        "model.add(Flatten())\n",
        "\n",
        "model.add(Dense(64, activation='relu'))\n",
        "model.add(Dense(32, activation='relu'))\n",
        "\n",
        "model.add(Dense(1, activation='sigmoid')) \n",
        "print(model.summary())"
      ],
      "execution_count": 0,
      "outputs": [
        {
          "output_type": "stream",
          "text": [
            "WARNING:tensorflow:Layer gru will not use cuDNN kernel since it doesn't meet the cuDNN kernel criteria. It will use generic GPU kernel as fallback when running on GPU\n"
          ],
          "name": "stdout"
        },
        {
          "output_type": "stream",
          "text": [
            "WARNING:tensorflow:Layer gru will not use cuDNN kernel since it doesn't meet the cuDNN kernel criteria. It will use generic GPU kernel as fallback when running on GPU\n"
          ],
          "name": "stderr"
        },
        {
          "output_type": "stream",
          "text": [
            "WARNING:tensorflow:Layer lstm_23 will not use cuDNN kernel since it doesn't meet the cuDNN kernel criteria. It will use generic GPU kernel as fallback when running on GPU\n"
          ],
          "name": "stdout"
        },
        {
          "output_type": "stream",
          "text": [
            "WARNING:tensorflow:Layer lstm_23 will not use cuDNN kernel since it doesn't meet the cuDNN kernel criteria. It will use generic GPU kernel as fallback when running on GPU\n"
          ],
          "name": "stderr"
        },
        {
          "output_type": "stream",
          "text": [
            "Model: \"sequential_13\"\n",
            "_________________________________________________________________\n",
            "Layer (type)                 Output Shape              Param #   \n",
            "=================================================================\n",
            "embedding_13 (Embedding)     (None, 300, 64)           640000    \n",
            "_________________________________________________________________\n",
            "conv1d_32 (Conv1D)           (None, 237, 32)           131104    \n",
            "_________________________________________________________________\n",
            "max_pooling1d_32 (MaxPooling (None, 79, 32)            0         \n",
            "_________________________________________________________________\n",
            "conv1d_33 (Conv1D)           (None, 48, 32)            32800     \n",
            "_________________________________________________________________\n",
            "max_pooling1d_33 (MaxPooling (None, 48, 32)            0         \n",
            "_________________________________________________________________\n",
            "gru (GRU)                    (None, 48, 16)            2400      \n",
            "_________________________________________________________________\n",
            "lstm_23 (LSTM)               (None, 48, 16)            2112      \n",
            "_________________________________________________________________\n",
            "flatten_7 (Flatten)          (None, 768)               0         \n",
            "_________________________________________________________________\n",
            "dense_34 (Dense)             (None, 64)                49216     \n",
            "_________________________________________________________________\n",
            "dense_35 (Dense)             (None, 32)                2080      \n",
            "_________________________________________________________________\n",
            "dense_36 (Dense)             (None, 1)                 33        \n",
            "=================================================================\n",
            "Total params: 859,745\n",
            "Trainable params: 859,745\n",
            "Non-trainable params: 0\n",
            "_________________________________________________________________\n",
            "None\n"
          ],
          "name": "stdout"
        }
      ]
    },
    {
      "cell_type": "code",
      "metadata": {
        "id": "Fcn5KsubFxDx",
        "colab_type": "code",
        "outputId": "bf1ba3a8-659d-48ac-a8b1-0f7b9973e849",
        "colab": {
          "base_uri": "https://localhost:8080/",
          "height": 353
        }
      },
      "source": [
        "model.compile(optimizer='rmsprop' ,loss='binary_crossentropy',metrics=[\"acc\"])\n",
        "es = EarlyStopping(monitor='val_loss', mode='min', verbose=1,patience=2)  \n",
        "mc=ModelCheckpoint('best_model_gru.h5', monitor='val_loss', mode='min', save_best_only=True,verbose=1)\n",
        "history = model.fit(x_train,y_train,batch_size=1200,epochs=10,validation_data=(x_test,y_test),verbose=1)"
      ],
      "execution_count": 0,
      "outputs": [
        {
          "output_type": "stream",
          "text": [
            "Epoch 1/10\n",
            "21/21 [==============================] - 10s 453ms/step - loss: 0.6699 - acc: 0.5694 - val_loss: 0.5098 - val_acc: 0.7547\n",
            "Epoch 2/10\n",
            "21/21 [==============================] - 9s 435ms/step - loss: 0.4667 - acc: 0.7934 - val_loss: 0.7601 - val_acc: 0.6768\n",
            "Epoch 3/10\n",
            "21/21 [==============================] - 9s 429ms/step - loss: 0.3680 - acc: 0.8470 - val_loss: 0.3884 - val_acc: 0.8309\n",
            "Epoch 4/10\n",
            "21/21 [==============================] - 9s 428ms/step - loss: 0.3074 - acc: 0.8781 - val_loss: 0.3641 - val_acc: 0.8427\n",
            "Epoch 5/10\n",
            "21/21 [==============================] - 9s 430ms/step - loss: 0.2637 - acc: 0.9010 - val_loss: 0.5455 - val_acc: 0.7741\n",
            "Epoch 6/10\n",
            "21/21 [==============================] - 9s 432ms/step - loss: 0.2313 - acc: 0.9120 - val_loss: 0.5269 - val_acc: 0.8134\n",
            "Epoch 7/10\n",
            "21/21 [==============================] - 9s 434ms/step - loss: 0.2200 - acc: 0.9166 - val_loss: 0.4445 - val_acc: 0.8298\n",
            "Epoch 8/10\n",
            "21/21 [==============================] - 9s 425ms/step - loss: 0.1979 - acc: 0.9238 - val_loss: 0.4185 - val_acc: 0.8431\n",
            "Epoch 9/10\n",
            "21/21 [==============================] - 9s 432ms/step - loss: 0.1708 - acc: 0.9366 - val_loss: 0.6096 - val_acc: 0.7812\n",
            "Epoch 10/10\n",
            "21/21 [==============================] - 9s 429ms/step - loss: 0.1564 - acc: 0.9456 - val_loss: 0.4170 - val_acc: 0.8412\n"
          ],
          "name": "stdout"
        }
      ]
    },
    {
      "cell_type": "code",
      "metadata": {
        "id": "ieqaS5G3Fw7o",
        "colab_type": "code",
        "colab": {}
      },
      "source": [
        "# load best model\n",
        "#Set the path where you want to store the model and weights. \n",
        "model.save('/content/drive/My Drive/Colab Notebooks/AIML/NLP/Week 4 - Project for Sequential NLP/best_model_gru.h5')\n",
        "model.save_weights('/content/drive/My Drive/Colab Notebooks/AIML/NLP/Week 4 - Project for Sequential NLP/best_model_gru_weights.h5')"
      ],
      "execution_count": 0,
      "outputs": []
    },
    {
      "cell_type": "code",
      "metadata": {
        "id": "9MRKH1M1Fw2W",
        "colab_type": "code",
        "outputId": "7addc1d5-e8d5-493a-88de-45e818415221",
        "colab": {
          "base_uri": "https://localhost:8080/",
          "height": 545
        }
      },
      "source": [
        "from matplotlib import pyplot as plt\n",
        "\n",
        "loss = history.history['loss']\n",
        "val_loss = history.history['val_loss']\n",
        "\n",
        "epochs = range(len(loss))\n",
        "\n",
        "plt.figure()\n",
        "\n",
        "plt.plot(epochs, loss, 'bo', label='Training loss')\n",
        "plt.plot(epochs, val_loss, 'b', label='Validation loss')\n",
        "plt.title('Training and validation loss')\n",
        "plt.legend()\n",
        "\n",
        "plt.show()\n",
        "\n",
        "acc = history.history['acc']\n",
        "val_acc = history.history['val_acc']\n",
        "\n",
        "epochs = range(len(acc))\n",
        "\n",
        "plt.figure()\n",
        "\n",
        "plt.plot(epochs, acc, 'bo', label='Training acc')\n",
        "plt.plot(epochs, val_acc, 'b', label='Validation acc')\n",
        "plt.title('Training and validation accuracy')\n",
        "plt.legend()\n",
        "\n",
        "plt.show()"
      ],
      "execution_count": 0,
      "outputs": [
        {
          "output_type": "display_data",
          "data": {
            "image/png": "[encoded data removed]",
            "text/plain": [
              "<Figure size 432x288 with 1 Axes>"
            ]
          },
          "metadata": {
            "tags": []
          }
        },
        {
          "output_type": "display_data",
          "data": {
            "image/png": "[encoded data removed]",
            "text/plain": [
              "<Figure size 432x288 with 1 Axes>"
            ]
          },
          "metadata": {
            "tags": []
          }
        }
      ]
    },
    {
      "cell_type": "code",
      "metadata": {
        "id": "GgwdJh4vb0nA",
        "colab_type": "code",
        "outputId": "992ef626-0ef4-45d7-fee4-22b19ff1d5e1",
        "colab": {
          "base_uri": "https://localhost:8080/",
          "height": 386
        }
      },
      "source": [
        "#GRU model\n",
        "model = Sequential()\n",
        "model.add(Embedding(vocab_size, 64, input_length=maxlen))\n",
        "model.add(Conv1D(32, 64, activation='relu'))\n",
        "model.add(MaxPool1D(3))\n",
        "\n",
        "model.add(Conv1D(32, 32, activation='relu'))\n",
        "model.add(MaxPool1D(1))\n",
        "\n",
        "model.add(GRU(32,dropout=0.2, return_sequences=True,recurrent_dropout=0.5))\n",
        "\n",
        "model.add(Flatten())\n",
        "\n",
        "model.add(Dense(64, activation='relu'))\n",
        "model.add(Dense(32, activation='relu'))\n",
        "\n",
        "model.add(Dense(1, activation='sigmoid')) \n",
        "#print(model.summary())\n",
        "\n",
        "model.compile(optimizer='rmsprop' ,loss='binary_crossentropy',metrics=[\"acc\"])\n",
        "es = EarlyStopping(monitor='val_loss', mode='min', verbose=1,patience=2)  \n",
        "mc=ModelCheckpoint('best_model_gru.h5', monitor='val_loss', mode='min', save_best_only=True,verbose=1)\n",
        "history = model.fit(x_train,y_train,batch_size=1200,epochs=10,validation_data=(x_test,y_test),verbose=1)"
      ],
      "execution_count": 0,
      "outputs": [
        {
          "output_type": "stream",
          "text": [
            "WARNING:tensorflow:Layer gru_9 will not use cuDNN kernel since it doesn't meet the cuDNN kernel criteria. It will use generic GPU kernel as fallback when running on GPU\n"
          ],
          "name": "stdout"
        },
        {
          "output_type": "stream",
          "text": [
            "WARNING:tensorflow:Layer gru_9 will not use cuDNN kernel since it doesn't meet the cuDNN kernel criteria. It will use generic GPU kernel as fallback when running on GPU\n"
          ],
          "name": "stderr"
        },
        {
          "output_type": "stream",
          "text": [
            "Epoch 1/10\n",
            "21/21 [==============================] - 6s 272ms/step - loss: 0.6622 - acc: 0.6018 - val_loss: 0.5169 - val_acc: 0.7783\n",
            "Epoch 2/10\n",
            "21/21 [==============================] - 5s 258ms/step - loss: 0.4242 - acc: 0.8170 - val_loss: 0.4680 - val_acc: 0.8016\n",
            "Epoch 3/10\n",
            "21/21 [==============================] - 5s 251ms/step - loss: 0.3307 - acc: 0.8628 - val_loss: 0.5738 - val_acc: 0.7434\n",
            "Epoch 4/10\n",
            "21/21 [==============================] - 5s 257ms/step - loss: 0.2888 - acc: 0.8814 - val_loss: 0.3750 - val_acc: 0.8423\n",
            "Epoch 5/10\n",
            "21/21 [==============================] - 5s 260ms/step - loss: 0.2455 - acc: 0.9032 - val_loss: 0.4246 - val_acc: 0.8226\n",
            "Epoch 6/10\n",
            "21/21 [==============================] - 5s 257ms/step - loss: 0.2135 - acc: 0.9178 - val_loss: 0.4206 - val_acc: 0.8383\n",
            "Epoch 7/10\n",
            "21/21 [==============================] - 5s 261ms/step - loss: 0.1895 - acc: 0.9270 - val_loss: 0.4507 - val_acc: 0.8310\n",
            "Epoch 8/10\n",
            "21/21 [==============================] - 6s 265ms/step - loss: 0.1690 - acc: 0.9343 - val_loss: 0.3562 - val_acc: 0.8589\n",
            "Epoch 9/10\n",
            "21/21 [==============================] - 5s 256ms/step - loss: 0.1348 - acc: 0.9527 - val_loss: 0.4510 - val_acc: 0.8554\n",
            "Epoch 10/10\n",
            "21/21 [==============================] - 5s 254ms/step - loss: 0.1062 - acc: 0.9628 - val_loss: 0.5229 - val_acc: 0.8554\n"
          ],
          "name": "stdout"
        }
      ]
    },
    {
      "cell_type": "code",
      "metadata": {
        "id": "KA_uGF8pb8bP",
        "colab_type": "code",
        "outputId": "ab157576-3b55-4631-f80a-1e621cb2a288",
        "colab": {
          "base_uri": "https://localhost:8080/",
          "height": 545
        }
      },
      "source": [
        "from matplotlib import pyplot as plt\n",
        "\n",
        "loss = history.history['loss']\n",
        "val_loss = history.history['val_loss']\n",
        "\n",
        "epochs = range(len(loss))\n",
        "\n",
        "plt.figure()\n",
        "\n",
        "plt.plot(epochs, loss, 'bo', label='Training loss')\n",
        "plt.plot(epochs, val_loss, 'b', label='Validation loss')\n",
        "plt.title('Training and validation loss')\n",
        "plt.legend()\n",
        "\n",
        "plt.show()\n",
        "\n",
        "acc = history.history['acc']\n",
        "val_acc = history.history['val_acc']\n",
        "\n",
        "epochs = range(len(acc))\n",
        "\n",
        "plt.figure()\n",
        "\n",
        "plt.plot(epochs, acc, 'bo', label='Training acc')\n",
        "plt.plot(epochs, val_acc, 'b', label='Validation acc')\n",
        "plt.title('Training and validation accuracy')\n",
        "plt.legend()\n",
        "\n",
        "plt.show()"
      ],
      "execution_count": 0,
      "outputs": [
        {
          "output_type": "display_data",
          "data": {
            "image/png": "[encoded data removed]",
            "text/plain": [
              "<Figure size 432x288 with 1 Axes>"
            ]
          },
          "metadata": {
            "tags": []
          }
        },
        {
          "output_type": "display_data",
          "data": {
            "image/png": "[encoded data removed]",
            "text/plain": [
              "<Figure size 432x288 with 1 Axes>"
            ]
          },
          "metadata": {
            "tags": []
          }
        }
      ]
    },
    {
      "cell_type": "markdown",
      "metadata": {
        "id": "zl1E45AXfNkk",
        "colab_type": "text"
      },
      "source": [
        "\n",
        "\n",
        "```\n",
        "Try Bidirectional LSTM\n",
        "```\n",
        "\n"
      ]
    },
    {
      "cell_type": "markdown",
      "metadata": {
        "id": "LmgGE_GCB-s-",
        "colab_type": "text"
      },
      "source": [
        "# Try Bidirectional LSTM"
      ]
    },
    {
      "cell_type": "code",
      "metadata": {
        "id": "u_HPp_s4cqp0",
        "colab_type": "code",
        "colab": {}
      },
      "source": [
        "#reduce the maximum length of each sequence to different numbers and try building the model.\n",
        "\n",
        "(x_train, y_train), (x_test, y_test) = imdb.load_data(num_words=vocab_size) # vocab_size is no.of words to consider from the dataset, ordering based on frequency."
      ],
      "execution_count": 0,
      "outputs": []
    },
    {
      "cell_type": "code",
      "metadata": {
        "id": "YGscVpmb0NfU",
        "colab_type": "code",
        "colab": {}
      },
      "source": [
        "maxlen=20\n",
        "\n",
        "#make all sequences of the same length\n",
        "x_train = pad_sequences(x_train, maxlen=maxlen)\n",
        "x_test = pad_sequences(x_test, maxlen=maxlen)"
      ],
      "execution_count": 0,
      "outputs": []
    },
    {
      "cell_type": "code",
      "metadata": {
        "id": "PyFXMm4mxkoE",
        "colab_type": "code",
        "outputId": "76d4b99e-26a8-4424-f987-9f9e43c34dea",
        "colab": {
          "base_uri": "https://localhost:8080/",
          "height": 958
        }
      },
      "source": [
        "model = Sequential()\n",
        "model.add(Embedding(vocab_size,50, input_length=maxlen))\n",
        "model.add(SpatialDropout1D(0.2))\n",
        "\n",
        "\n",
        "model.add(Bidirectional(LSTM(128, recurrent_dropout=0.1,return_sequences=True)))\n",
        "model.add(Bidirectional(LSTM(64, recurrent_dropout=0.1,return_sequences=True )))\n",
        "model.add(Bidirectional(LSTM(32, recurrent_dropout=0.1,return_sequences=True )))\n",
        "model.add(Dropout(0.25))\n",
        "\n",
        "model.add(Dense(64, activation='relu'))\n",
        "model.add(Dense(32, activation='relu'))\n",
        "\n",
        "model.add(Dense(1, activation='sigmoid'))\n",
        "model.compile(loss = 'binary_crossentropy', optimizer='adam',metrics = ['accuracy'])\n",
        "print(model.summary())\n",
        "\n",
        "epochs = 10\n",
        "batch_size = 1200\n",
        "es = EarlyStopping(monitor='val_loss', mode='min', verbose=1,patience=2)  \n",
        "mc=ModelCheckpoint('best_model_bi-lstm.h5', monitor='val_loss', mode='min', save_best_only=True,verbose=1)\n",
        "history = model.fit(x_train, y_train, epochs=epochs, batch_size=batch_size, verbose=1, validation_split=0.2)"
      ],
      "execution_count": 0,
      "outputs": [
        {
          "output_type": "stream",
          "text": [
            "WARNING:tensorflow:Layer lstm_25 will not use cuDNN kernel since it doesn't meet the cuDNN kernel criteria. It will use generic GPU kernel as fallback when running on GPU\n",
            "WARNING:tensorflow:Layer lstm_25 will not use cuDNN kernel since it doesn't meet the cuDNN kernel criteria. It will use generic GPU kernel as fallback when running on GPU\n",
            "WARNING:tensorflow:Layer lstm_25 will not use cuDNN kernel since it doesn't meet the cuDNN kernel criteria. It will use generic GPU kernel as fallback when running on GPU\n",
            "WARNING:tensorflow:Layer lstm_26 will not use cuDNN kernel since it doesn't meet the cuDNN kernel criteria. It will use generic GPU kernel as fallback when running on GPU\n",
            "WARNING:tensorflow:Layer lstm_26 will not use cuDNN kernel since it doesn't meet the cuDNN kernel criteria. It will use generic GPU kernel as fallback when running on GPU\n",
            "WARNING:tensorflow:Layer lstm_26 will not use cuDNN kernel since it doesn't meet the cuDNN kernel criteria. It will use generic GPU kernel as fallback when running on GPU\n",
            "WARNING:tensorflow:Layer lstm_27 will not use cuDNN kernel since it doesn't meet the cuDNN kernel criteria. It will use generic GPU kernel as fallback when running on GPU\n",
            "WARNING:tensorflow:Layer lstm_27 will not use cuDNN kernel since it doesn't meet the cuDNN kernel criteria. It will use generic GPU kernel as fallback when running on GPU\n",
            "WARNING:tensorflow:Layer lstm_27 will not use cuDNN kernel since it doesn't meet the cuDNN kernel criteria. It will use generic GPU kernel as fallback when running on GPU\n",
            "Model: \"sequential_15\"\n",
            "_________________________________________________________________\n",
            "Layer (type)                 Output Shape              Param #   \n",
            "=================================================================\n",
            "embedding_15 (Embedding)     (None, 20, 50)            500000    \n",
            "_________________________________________________________________\n",
            "spatial_dropout1d_15 (Spatia (None, 20, 50)            0         \n",
            "_________________________________________________________________\n",
            "bidirectional_25 (Bidirectio (None, 20, 256)           183296    \n",
            "_________________________________________________________________\n",
            "bidirectional_26 (Bidirectio (None, 20, 128)           164352    \n",
            "_________________________________________________________________\n",
            "bidirectional_27 (Bidirectio (None, 20, 64)            41216     \n",
            "_________________________________________________________________\n",
            "dropout_10 (Dropout)         (None, 20, 64)            0         \n",
            "_________________________________________________________________\n",
            "dense_26 (Dense)             (None, 20, 64)            4160      \n",
            "_________________________________________________________________\n",
            "dense_27 (Dense)             (None, 20, 32)            2080      \n",
            "_________________________________________________________________\n",
            "dense_28 (Dense)             (None, 20, 1)             33        \n",
            "=================================================================\n",
            "Total params: 895,137\n",
            "Trainable params: 895,137\n",
            "Non-trainable params: 0\n",
            "_________________________________________________________________\n",
            "None\n",
            "Epoch 1/10\n",
            "17/17 [==============================] - 8s 444ms/step - loss: 0.6869 - accuracy: 0.5609 - val_loss: 0.6448 - val_accuracy: 0.6721\n",
            "Epoch 2/10\n",
            "17/17 [==============================] - 6s 376ms/step - loss: 0.5477 - accuracy: 0.7372 - val_loss: 0.5253 - val_accuracy: 0.7353\n",
            "Epoch 3/10\n",
            "17/17 [==============================] - 7s 386ms/step - loss: 0.4254 - accuracy: 0.8135 - val_loss: 0.5070 - val_accuracy: 0.7534\n",
            "Epoch 4/10\n",
            "17/17 [==============================] - 6s 379ms/step - loss: 0.3587 - accuracy: 0.8550 - val_loss: 0.5307 - val_accuracy: 0.7468\n",
            "Epoch 5/10\n",
            "17/17 [==============================] - 6s 370ms/step - loss: 0.3131 - accuracy: 0.8771 - val_loss: 0.5636 - val_accuracy: 0.7431\n",
            "Epoch 6/10\n",
            "17/17 [==============================] - 6s 370ms/step - loss: 0.2782 - accuracy: 0.8937 - val_loss: 0.5920 - val_accuracy: 0.7322\n",
            "Epoch 7/10\n",
            "17/17 [==============================] - 6s 375ms/step - loss: 0.2500 - accuracy: 0.9068 - val_loss: 0.6224 - val_accuracy: 0.7326\n",
            "Epoch 8/10\n",
            "17/17 [==============================] - 6s 380ms/step - loss: 0.2231 - accuracy: 0.9189 - val_loss: 0.6392 - val_accuracy: 0.7317\n",
            "Epoch 9/10\n",
            "17/17 [==============================] - 6s 374ms/step - loss: 0.1992 - accuracy: 0.9315 - val_loss: 0.6886 - val_accuracy: 0.7312\n",
            "Epoch 10/10\n",
            "17/17 [==============================] - 6s 377ms/step - loss: 0.1836 - accuracy: 0.9370 - val_loss: 0.7246 - val_accuracy: 0.7264\n"
          ],
          "name": "stdout"
        }
      ]
    },
    {
      "cell_type": "code",
      "metadata": {
        "id": "qMwQwnYaxktU",
        "colab_type": "code",
        "outputId": "e771f98b-742b-4b85-b87b-02ef5ec46d34",
        "colab": {
          "base_uri": "https://localhost:8080/",
          "height": 545
        }
      },
      "source": [
        "# We see that accuracy is compromised with reduced sequence length but the model training takes much lesser time\n",
        "\n",
        "loss = history.history['loss']\n",
        "val_loss = history.history['val_loss']\n",
        "\n",
        "epochs = range(len(loss))\n",
        "\n",
        "plt.figure()\n",
        "\n",
        "plt.plot(epochs, loss, 'bo', label='Training loss')\n",
        "plt.plot(epochs, val_loss, 'b', label='Validation loss')\n",
        "plt.title('Training and validation loss')\n",
        "plt.legend()\n",
        "\n",
        "plt.show()\n",
        "\n",
        "acc = history.history['accuracy']\n",
        "val_acc = history.history['val_accuracy']\n",
        "\n",
        "epochs = range(len(acc))\n",
        "\n",
        "plt.figure()\n",
        "\n",
        "plt.plot(epochs, acc, 'bo', label='Training acc')\n",
        "plt.plot(epochs, val_acc, 'b', label='Validation acc')\n",
        "plt.title('Training and validation accuracy')\n",
        "plt.legend()\n",
        "\n",
        "plt.show()"
      ],
      "execution_count": 0,
      "outputs": [
        {
          "output_type": "display_data",
          "data": {
            "image/png": "[encoded data removed]",
            "text/plain": [
              "<Figure size 432x288 with 1 Axes>"
            ]
          },
          "metadata": {
            "tags": [],
            "needs_background": "light"
          }
        },
        {
          "output_type": "display_data",
          "data": {
            "image/png": "[encoded data removed]",
            "text/plain": [
              "<Figure size 432x288 with 1 Axes>"
            ]
          },
          "metadata": {
            "tags": [],
            "needs_background": "light"
          }
        }
      ]
    },
    {
      "cell_type": "code",
      "metadata": {
        "id": "3RyIqMY3xkyt",
        "colab_type": "code",
        "colab": {}
      },
      "source": [
        "y_hat = model.predict(x_test)\n",
        "y_pred=np.round(y_hat)"
      ],
      "execution_count": 0,
      "outputs": []
    },
    {
      "cell_type": "code",
      "metadata": {
        "id": "sUMByzjRxk4M",
        "colab_type": "code",
        "colab": {}
      },
      "source": [
        "print('Accuracy Achieved: ',accuracy_score(y_test,y_pred))"
      ],
      "execution_count": 0,
      "outputs": []
    },
    {
      "cell_type": "code",
      "metadata": {
        "id": "iKj5d-Dfxk_b",
        "colab_type": "code",
        "colab": {}
      },
      "source": [
        ""
      ],
      "execution_count": 0,
      "outputs": []
    },
    {
      "cell_type": "code",
      "metadata": {
        "id": "i4jc7nOl9oUk",
        "colab_type": "code",
        "colab": {}
      },
      "source": [
        "#Try again with increased sequence length\n",
        "(x_train, y_train), (x_test, y_test) = imdb.load_data(num_words=vocab_size) # vocab_size is no.of words to consider from the dataset, ordering based on frequency.\n",
        "\n",
        "maxlen=300\n",
        "\n",
        "#make all sequences of the same length\n",
        "x_train = pad_sequences(x_train, maxlen=maxlen)\n",
        "x_test = pad_sequences(x_test, maxlen=maxlen)"
      ],
      "execution_count": 0,
      "outputs": []
    },
    {
      "cell_type": "code",
      "metadata": {
        "id": "XXBRC-_Sb8Xm",
        "colab_type": "code",
        "colab": {}
      },
      "source": [
        "import numpy as np\n",
        "from tensorflow.keras.preprocessing.text import Tokenizer\n",
        "from tensorflow.keras.preprocessing.sequence import pad_sequences\n",
        "from tensorflow.keras.layers import Dense, Input, LSTM, Embedding, Dropout, Activation, Flatten, Bidirectional, GlobalMaxPool1D\n",
        "from tensorflow.keras.models import Model, Sequential\n",
        "from tensorflow.keras.layers import *\n",
        "from keras.initializers import Constant"
      ],
      "execution_count": 0,
      "outputs": []
    },
    {
      "cell_type": "code",
      "metadata": {
        "id": "zvh2i9bMb8WW",
        "colab_type": "code",
        "outputId": "8492053e-cc40-45f8-d84c-f54f907f5dbf",
        "colab": {
          "base_uri": "https://localhost:8080/",
          "height": 504
        }
      },
      "source": [
        "model = Sequential()\n",
        "model.add(Embedding(vocab_size, 64, input_length=maxlen))\n",
        "model.add(SpatialDropout1D(0.2))\n",
        "model.add(Bidirectional(LSTM(32, recurrent_dropout=0.1,return_sequences=True)))\n",
        "model.add(Bidirectional(LSTM(16, recurrent_dropout=0.1)))\n",
        "model.add(Dropout(0.25))\n",
        "\n",
        "model.add(Dense(64, activation='relu'))\n",
        "\n",
        "model.add(Dense(1, activation='sigmoid'))\n",
        "model.compile(loss = 'binary_crossentropy', optimizer='adam',metrics = ['accuracy'])\n",
        "print(model.summary())"
      ],
      "execution_count": 0,
      "outputs": [
        {
          "output_type": "stream",
          "text": [
            "WARNING:tensorflow:Layer lstm will not use cuDNN kernel since it doesn't meet the cuDNN kernel criteria. It will use generic GPU kernel as fallback when running on GPU\n",
            "WARNING:tensorflow:Layer lstm will not use cuDNN kernel since it doesn't meet the cuDNN kernel criteria. It will use generic GPU kernel as fallback when running on GPU\n",
            "WARNING:tensorflow:Layer lstm will not use cuDNN kernel since it doesn't meet the cuDNN kernel criteria. It will use generic GPU kernel as fallback when running on GPU\n",
            "WARNING:tensorflow:Layer lstm_1 will not use cuDNN kernel since it doesn't meet the cuDNN kernel criteria. It will use generic GPU kernel as fallback when running on GPU\n",
            "WARNING:tensorflow:Layer lstm_1 will not use cuDNN kernel since it doesn't meet the cuDNN kernel criteria. It will use generic GPU kernel as fallback when running on GPU\n",
            "WARNING:tensorflow:Layer lstm_1 will not use cuDNN kernel since it doesn't meet the cuDNN kernel criteria. It will use generic GPU kernel as fallback when running on GPU\n",
            "Model: \"sequential\"\n",
            "_________________________________________________________________\n",
            "Layer (type)                 Output Shape              Param #   \n",
            "=================================================================\n",
            "embedding (Embedding)        (None, 300, 64)           640000    \n",
            "_________________________________________________________________\n",
            "spatial_dropout1d (SpatialDr (None, 300, 64)           0         \n",
            "_________________________________________________________________\n",
            "bidirectional (Bidirectional (None, 300, 64)           24832     \n",
            "_________________________________________________________________\n",
            "bidirectional_1 (Bidirection (None, 32)                10368     \n",
            "_________________________________________________________________\n",
            "dropout (Dropout)            (None, 32)                0         \n",
            "_________________________________________________________________\n",
            "dense (Dense)                (None, 64)                2112      \n",
            "_________________________________________________________________\n",
            "dense_1 (Dense)              (None, 1)                 65        \n",
            "=================================================================\n",
            "Total params: 677,377\n",
            "Trainable params: 677,377\n",
            "Non-trainable params: 0\n",
            "_________________________________________________________________\n",
            "None\n"
          ],
          "name": "stdout"
        }
      ]
    },
    {
      "cell_type": "code",
      "metadata": {
        "id": "t22PCo11cq4g",
        "colab_type": "code",
        "outputId": "44134453-9d21-4c53-801b-79b32c9a779a",
        "colab": {
          "base_uri": "https://localhost:8080/",
          "height": 353
        }
      },
      "source": [
        "epochs = 10\n",
        "batch_size = 1200\n",
        "es = EarlyStopping(monitor='val_loss', mode='min', verbose=1,patience=2)  \n",
        "mc=ModelCheckpoint('best_model_bi-lstm.h5', monitor='val_loss', mode='min', save_best_only=True,verbose=1)\n",
        "history = model.fit(x_train, y_train, epochs=epochs, batch_size=batch_size, verbose=1, validation_split=0.2)"
      ],
      "execution_count": 0,
      "outputs": [
        {
          "output_type": "stream",
          "text": [
            "Epoch 1/10\n",
            "17/17 [==============================] - 103s 6s/step - loss: 0.6920 - accuracy: 0.5287 - val_loss: 0.6889 - val_accuracy: 0.5314\n",
            "Epoch 2/10\n",
            "17/17 [==============================] - 102s 6s/step - loss: 0.6464 - accuracy: 0.6977 - val_loss: 0.5545 - val_accuracy: 0.7394\n",
            "Epoch 3/10\n",
            "17/17 [==============================] - 101s 6s/step - loss: 0.4188 - accuracy: 0.8279 - val_loss: 0.3728 - val_accuracy: 0.8368\n",
            "Epoch 4/10\n",
            "17/17 [==============================] - 103s 6s/step - loss: 0.2813 - accuracy: 0.8962 - val_loss: 0.3222 - val_accuracy: 0.8718\n",
            "Epoch 5/10\n",
            "17/17 [==============================] - 104s 6s/step - loss: 0.2062 - accuracy: 0.9281 - val_loss: 0.3129 - val_accuracy: 0.8816\n",
            "Epoch 6/10\n",
            "17/17 [==============================] - 104s 6s/step - loss: 0.1573 - accuracy: 0.9475 - val_loss: 0.3454 - val_accuracy: 0.8782\n",
            "Epoch 7/10\n",
            "17/17 [==============================] - 106s 6s/step - loss: 0.1216 - accuracy: 0.9626 - val_loss: 0.3934 - val_accuracy: 0.8786\n",
            "Epoch 8/10\n",
            "17/17 [==============================] - 106s 6s/step - loss: 0.0931 - accuracy: 0.9735 - val_loss: 0.4406 - val_accuracy: 0.8756\n",
            "Epoch 9/10\n",
            "17/17 [==============================] - 105s 6s/step - loss: 0.0775 - accuracy: 0.9783 - val_loss: 0.4681 - val_accuracy: 0.8716\n",
            "Epoch 10/10\n",
            "17/17 [==============================] - 105s 6s/step - loss: 0.0634 - accuracy: 0.9840 - val_loss: 0.5070 - val_accuracy: 0.8728\n"
          ],
          "name": "stdout"
        }
      ]
    },
    {
      "cell_type": "code",
      "metadata": {
        "id": "haAdjufncq2e",
        "colab_type": "code",
        "outputId": "49dcf0c0-dcd7-4d4c-d0a0-63c27d26b9f2",
        "colab": {
          "base_uri": "https://localhost:8080/",
          "height": 573
        }
      },
      "source": [
        "import matplotlib.pyplot as plt\n",
        "\n",
        "plt.plot(history.history['accuracy'])\n",
        "plt.plot(history.history['val_accuracy'])\n",
        "plt.title('model accuracy')\n",
        "plt.ylabel('accuracy')\n",
        "plt.xlabel('epoch')\n",
        "plt.legend(['train', 'validation'], loc='upper left')\n",
        "plt.show()\n",
        "\n",
        "plt.plot(history.history['loss'])\n",
        "plt.plot(history.history['val_loss'])\n",
        "plt.title('model loss')\n",
        "plt.ylabel('loss')\n",
        "plt.xlabel('epoch')\n",
        "plt.legend(['train', 'validation'], loc='upper left')\n",
        "plt.show()"
      ],
      "execution_count": 0,
      "outputs": [
        {
          "output_type": "display_data",
          "data": {
            "image/png": "[encoded data removed]",
            "text/plain": [
              "<Figure size 432x288 with 1 Axes>"
            ]
          },
          "metadata": {
            "tags": [],
            "needs_background": "light"
          }
        },
        {
          "output_type": "display_data",
          "data": {
            "image/png": "[encoded data removed]",
            "text/plain": [
              "<Figure size 432x288 with 1 Axes>"
            ]
          },
          "metadata": {
            "tags": [],
            "needs_background": "light"
          }
        }
      ]
    },
    {
      "cell_type": "code",
      "metadata": {
        "id": "pq0dr7mhv04x",
        "colab_type": "code",
        "colab": {}
      },
      "source": [
        "# load best model\n",
        "#Set the path where you want to store the model and weights. \n",
        "model.save('/content/drive/My Drive/Colab Notebooks/AIML/NLP/Week 4 - Project for Sequential NLP/best_model_bi-lstm.h5')\n",
        "model.save_weights('/content/drive/My Drive/Colab Notebooks/AIML/NLP/Week 4 - Project for Sequential NLP/best_model_bi-lstm_weights.h5')"
      ],
      "execution_count": 0,
      "outputs": []
    },
    {
      "cell_type": "code",
      "metadata": {
        "id": "eKFQO3o3cqyv",
        "colab_type": "code",
        "outputId": "6fd6d05d-777e-4c9f-fef6-18c69acd65a1",
        "colab": {
          "base_uri": "https://localhost:8080/",
          "height": 50
        }
      },
      "source": [
        "# evaluate the model\n",
        "loss, accuracy = model.evaluate(x_train, y_train, verbose=2)\n",
        "print('Training_Accuracy: %f' % (accuracy*100))"
      ],
      "execution_count": 0,
      "outputs": [
        {
          "output_type": "stream",
          "text": [
            "782/782 - 330s - loss: 0.1365 - accuracy: 0.9666\n",
            "Training_Accuracy: 96.664000\n"
          ],
          "name": "stdout"
        }
      ]
    },
    {
      "cell_type": "code",
      "metadata": {
        "id": "2CT1jf-kcqwt",
        "colab_type": "code",
        "colab": {}
      },
      "source": [
        "y_hat = model.predict(x_test)\n",
        "y_pred=np.round(y_hat)"
      ],
      "execution_count": 0,
      "outputs": []
    },
    {
      "cell_type": "code",
      "metadata": {
        "id": "2GyzDhsccqsE",
        "colab_type": "code",
        "outputId": "d9e82406-855c-48ce-9e7c-1cfa1e72edbe",
        "colab": {
          "base_uri": "https://localhost:8080/",
          "height": 185
        }
      },
      "source": [
        "from sklearn.metrics import classification_report, accuracy_score, confusion_matrix\n",
        "\n",
        "print(classification_report(y_pred,y_test))\n",
        "print(accuracy_score(y_test,y_pred))"
      ],
      "execution_count": 0,
      "outputs": [
        {
          "output_type": "stream",
          "text": [
            "              precision    recall  f1-score   support\n",
            "\n",
            "         0.0       0.90      0.84      0.87     13324\n",
            "         1.0       0.83      0.89      0.86     11676\n",
            "\n",
            "    accuracy                           0.86     25000\n",
            "   macro avg       0.86      0.86      0.86     25000\n",
            "weighted avg       0.86      0.86      0.86     25000\n",
            "\n",
            "0.86216\n"
          ],
          "name": "stdout"
        }
      ]
    },
    {
      "cell_type": "code",
      "metadata": {
        "id": "_M-s-P5NxlEs",
        "colab_type": "code",
        "outputId": "ae714825-c716-43a3-cc23-b772421df40b",
        "colab": {
          "base_uri": "https://localhost:8080/",
          "height": 134
        }
      },
      "source": [
        "y_pred"
      ],
      "execution_count": 0,
      "outputs": [
        {
          "output_type": "execute_result",
          "data": {
            "text/plain": [
              "array([[1.],\n",
              "       [1.],\n",
              "       [0.],\n",
              "       ...,\n",
              "       [0.],\n",
              "       [0.],\n",
              "       [1.]], dtype=float32)"
            ]
          },
          "metadata": {
            "tags": []
          },
          "execution_count": 65
        }
      ]
    },
    {
      "cell_type": "markdown",
      "metadata": {
        "id": "Igq8Qm8GeCzG",
        "colab_type": "text"
      },
      "source": [
        "## Retrive the output of each layer in keras for a given single test sample from the trained model you built"
      ]
    },
    {
      "cell_type": "code",
      "metadata": {
        "id": "LR12azar4N5z",
        "colab_type": "code",
        "outputId": "eae564e5-2eb2-444d-afac-1edf9e0d89fd",
        "colab": {
          "base_uri": "https://localhost:8080/",
          "height": 134
        }
      },
      "source": [
        "#Load the pre-trained saved model and load the weights\n",
        "\n",
        "from tensorflow.python.keras.models import load_model\n",
        "import numpy as np\n",
        "from tensorflow.python.keras.preprocessing import image\n",
        "\n",
        "# Load the pre trained model from the HDF5 file saved previously\n",
        "pretrained_model = load_model('/content/drive/My Drive/Colab Notebooks/AIML/NLP/Week 4 - Project for Sequential NLP/best_model_bi-lstm.h5')\n",
        "pretrained_model.load_weights('/content/drive/My Drive/Colab Notebooks/AIML/NLP/Week 4 - Project for Sequential NLP/best_model_bi-lstm_weights.h5')"
      ],
      "execution_count": 0,
      "outputs": [
        {
          "output_type": "stream",
          "text": [
            "WARNING:tensorflow:Layer lstm_28 will not use cuDNN kernel since it doesn't meet the cuDNN kernel criteria. It will use generic GPU kernel as fallback when running on GPU\n",
            "WARNING:tensorflow:Layer lstm_28 will not use cuDNN kernel since it doesn't meet the cuDNN kernel criteria. It will use generic GPU kernel as fallback when running on GPU\n",
            "WARNING:tensorflow:Layer lstm_28 will not use cuDNN kernel since it doesn't meet the cuDNN kernel criteria. It will use generic GPU kernel as fallback when running on GPU\n",
            "WARNING:tensorflow:Layer lstm_29 will not use cuDNN kernel since it doesn't meet the cuDNN kernel criteria. It will use generic GPU kernel as fallback when running on GPU\n",
            "WARNING:tensorflow:Layer lstm_29 will not use cuDNN kernel since it doesn't meet the cuDNN kernel criteria. It will use generic GPU kernel as fallback when running on GPU\n",
            "WARNING:tensorflow:Layer lstm_29 will not use cuDNN kernel since it doesn't meet the cuDNN kernel criteria. It will use generic GPU kernel as fallback when running on GPU\n",
            "WARNING:tensorflow:Error in loading the saved optimizer state. As a result, your model is starting with a freshly initialized optimizer.\n"
          ],
          "name": "stdout"
        }
      ]
    },
    {
      "cell_type": "code",
      "metadata": {
        "id": "Nq7wFV9jD2UA",
        "colab_type": "code",
        "colab": {}
      },
      "source": [
        "y_hat = model.predict(x_test)"
      ],
      "execution_count": 0,
      "outputs": []
    },
    {
      "cell_type": "code",
      "metadata": {
        "id": "k9IiAGZnPmYM",
        "colab_type": "code",
        "colab": {}
      },
      "source": [
        "y_pred=np.round(y_hat)\n",
        "y_pred = y_pred.astype(int)"
      ],
      "execution_count": 0,
      "outputs": []
    },
    {
      "cell_type": "code",
      "metadata": {
        "id": "iQq-Da-IUAAG",
        "colab_type": "code",
        "outputId": "fdb74656-c511-4288-e190-9d63462ad58d",
        "colab": {
          "base_uri": "https://localhost:8080/",
          "height": 34
        }
      },
      "source": [
        "from more_itertools import one\n",
        "one(y_pred[0])"
      ],
      "execution_count": 0,
      "outputs": [
        {
          "output_type": "execute_result",
          "data": {
            "text/plain": [
              "0"
            ]
          },
          "metadata": {
            "tags": []
          },
          "execution_count": 105
        }
      ]
    },
    {
      "cell_type": "code",
      "metadata": {
        "id": "QpK0-ooxQv6v",
        "colab_type": "code",
        "outputId": "73c85fc6-d7ca-4cb7-9b70-c95ec56d05a9",
        "colab": {
          "base_uri": "https://localhost:8080/",
          "height": 50
        }
      },
      "source": [
        "print('24999th Label of test set: ', y_test[24999])\n",
        "print('Prediction for the above is: ', one(y_pred[24999]))"
      ],
      "execution_count": 0,
      "outputs": [
        {
          "output_type": "stream",
          "text": [
            "24999th Label of test set:  0\n",
            "Prediction for the above is:  0\n"
          ],
          "name": "stdout"
        }
      ]
    },
    {
      "cell_type": "code",
      "metadata": {
        "id": "6idsXVgUQj4-",
        "colab_type": "code",
        "outputId": "a55a25b0-489c-4bbe-c820-28f983ce4a42",
        "colab": {
          "base_uri": "https://localhost:8080/",
          "height": 50
        }
      },
      "source": [
        "print('10005th Label of test set: ', y_test[10005])\n",
        "print('Prediction for the above is: ', one(y_pred[10005]))"
      ],
      "execution_count": 0,
      "outputs": [
        {
          "output_type": "stream",
          "text": [
            "10005th Label of test set:  0\n",
            "Prediction for the above is:  0\n"
          ],
          "name": "stdout"
        }
      ]
    },
    {
      "cell_type": "code",
      "metadata": {
        "id": "P2okQD9nPmDs",
        "colab_type": "code",
        "outputId": "27981c7d-26bd-4617-a2bf-8c851facb304",
        "colab": {
          "base_uri": "https://localhost:8080/",
          "height": 50
        }
      },
      "source": [
        "print('1000th Label of test set: ', y_test[1])\n",
        "print('Prediction for the above is: ', one(y_pred[1]))"
      ],
      "execution_count": 0,
      "outputs": [
        {
          "output_type": "stream",
          "text": [
            "1000th Label of test set:  1\n",
            "Prediction for the above is:  1\n"
          ],
          "name": "stdout"
        }
      ]
    },
    {
      "cell_type": "code",
      "metadata": {
        "id": "0AqOnLa2eCzH",
        "colab_type": "code",
        "colab": {}
      },
      "source": [
        "def get_original_text(i):\n",
        "    word_to_id = imdb.get_word_index()\n",
        "    word_to_id = {k:(v+3) for k,v in word_to_id.items()}\n",
        "    word_to_id[\"#\"] = 0\n",
        "    word_to_id[\"<START>\"] = 1\n",
        "    word_to_id[\"<UNK>\"] = 2\n",
        "\n",
        "    id_to_word = {value:key for key,value in word_to_id.items()}\n",
        "    return ' '.join(id_to_word[id] for id in x_test[i])\n",
        "\n",
        "\n",
        "SentimentDict={1:'positive', 0:'negative'}\n",
        "def display_test_sentiment(i):\n",
        "    print(get_original_text(i))\n",
        "    print('label: ', SentimentDict[y_test[i]], ', prediction: ', SentimentDict[one(y_pred[i])])"
      ],
      "execution_count": 0,
      "outputs": []
    },
    {
      "cell_type": "code",
      "metadata": {
        "id": "-dUDSg7VeCzM",
        "colab_type": "code",
        "outputId": "7cb7b5ad-407a-4d63-b5e8-790087fbd6f0",
        "colab": {
          "base_uri": "https://localhost:8080/",
          "height": 70
        }
      },
      "source": [
        "display_test_sentiment(1)"
      ],
      "execution_count": 0,
      "outputs": [
        {
          "output_type": "stream",
          "text": [
            "# # # # # # # # # # # # # # # # # # # # # # # # # # # # # # # # # # # # # # # # <START> this film requires a lot of patience because it focuses on mood and character development the plot is very simple and many of the scenes take place on the same set in frances <UNK> the sandy dennis character apartment but the film builds to a disturbing climax br br the characters create an atmosphere <UNK> with sexual tension and psychological <UNK> it's very interesting that robert altman directed this considering the style and structure of his other films still the trademark altman audio style is evident here and there i think what really makes this film work is the brilliant performance by sandy dennis it's definitely one of her darker characters but she plays it so perfectly and convincingly that it's scary michael burns does a good job as the mute young man regular altman player michael murphy has a small part the <UNK> moody set fits the content of the story very well in short this movie is a powerful study of loneliness sexual <UNK> and desperation be patient <UNK> up the atmosphere and pay attention to the wonderfully written script br br i praise robert altman this is one of his many films that deals with unconventional fascinating subject matter this film is disturbing but it's sincere and it's sure to <UNK> a strong emotional response from the viewer if you want to see an unusual film some might even say bizarre this is worth the time br br unfortunately it's very difficult to find in video stores you may have to buy it off the internet\n",
            "label:  positive , prediction:  positive\n"
          ],
          "name": "stdout"
        }
      ]
    },
    {
      "cell_type": "code",
      "metadata": {
        "id": "Tskt_1npeCzP",
        "colab_type": "code",
        "outputId": "65a2079c-d4d7-4951-a55e-815bd0f8a290",
        "colab": {
          "base_uri": "https://localhost:8080/",
          "height": 70
        }
      },
      "source": [
        "display_test_sentiment(12500)"
      ],
      "execution_count": 0,
      "outputs": [
        {
          "output_type": "stream",
          "text": [
            "# # # # # # # # # # # # # # # # # # # # # # # # # # # # # # # # # # # # # # # # # # # # # # # # # # # # # # # # # # # # # # # # # # # # # # # # # # # # # # # # # # # # # # # # # # # # # # # # # # # # # # # # # # # # # # # # # # # # # # # # # # # # # # # # # # # # # # # # # # # # # # # # # # # # # # # # # # # # # # # # # # # # # # # # # # # # # # # # # # # # # # # # # # # # # <START> crap i accidentally watched this film thinking that it was the swimming <UNK> that was released in 2003 i seriously regret wasting an hour of my life sitting through it shame on whoever gave this junk an award i thoroughly <UNK> this film in fact i didn't see it through to the end after an hour i could no longer stand it i am disgusted that people are amused by such a lousy script which tries and fails to rip off a dozen other human interest stories and such <UNK> ad acting painful i rate it 1 star out of 10 an amateur could make a much much greater movie\n",
            "label:  negative , prediction:  negative\n"
          ],
          "name": "stdout"
        }
      ]
    },
    {
      "cell_type": "code",
      "metadata": {
        "id": "EeODENmWKoIH",
        "colab_type": "code",
        "outputId": "b94e887e-03f9-4ca5-eef2-9cdcb852c999",
        "colab": {
          "base_uri": "https://localhost:8080/",
          "height": 34
        }
      },
      "source": [
        "y_test[12500]"
      ],
      "execution_count": 0,
      "outputs": [
        {
          "output_type": "execute_result",
          "data": {
            "text/plain": [
              "0"
            ]
          },
          "metadata": {
            "tags": []
          },
          "execution_count": 55
        }
      ]
    },
    {
      "cell_type": "markdown",
      "metadata": {
        "id": "iu4APQ98Wqzj",
        "colab_type": "text"
      },
      "source": [
        "Best model results were achieved with the bidirectional lstm with 300 sequence length of the reviews as can be seen above"
      ]
    },
    {
      "cell_type": "code",
      "metadata": {
        "id": "WaEKF9xJN1PZ",
        "colab_type": "code",
        "colab": {}
      },
      "source": [
        ""
      ],
      "execution_count": 0,
      "outputs": []
    }
  ]
}